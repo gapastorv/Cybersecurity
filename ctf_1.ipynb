{
  "metadata": {
    "kernelspec": {
      "name": "python",
      "display_name": "Python (Pyodide)",
      "language": "python"
    },
    "language_info": {
      "codemirror_mode": {
        "name": "python",
        "version": 3
      },
      "file_extension": ".py",
      "mimetype": "text/x-python",
      "name": "python",
      "nbconvert_exporter": "python",
      "pygments_lexer": "ipython3",
      "version": "3.8"
    }
  },
  "nbformat_minor": 5,
  "nbformat": 4,
  "cells": [
    {
      "cell_type": "markdown",
      "source": "# HW 1: cybersecurity\n\n# Definition of the activities done\n\nIn this notebook will be shown the components and activites done for each one of the picoCTF activites of the homework.\n\n## Mod26, 13 & caesar\n\n**Mod26** implies the decryption of a text, using the Caesar cipher, simply considering ROT13, what meant the use of the key 13. For this case, a function of shift cipher could be used to solve it, getting a result that was clear to read and understand. The **13** case is the same with a different code.\n\nThe case of **caesar** implies just the messaje, considering it as *picoCTF{ynkooejcpdanqxeykjrbdofgkq}* just skipping the *picoCTF* part, we could get the message decrypted. However, the problem here implies that there is not a key, so we have to test it with different keys, going far also with values higher than 26. It's important to take in count that the message and its sense helps to define if it could be the decrypted message. In this case, *crossingtherubicon* in the message with key = 22. This has arelation with a Roman phrase with the point of passing through a point without return. \n",
      "metadata": {
        "tags": []
      },
      "id": "a35eeb9f-df70-4ab1-a243-2d2025888eb0"
    },
    {
      "cell_type": "code",
      "source": "def shift_cipher_encrypt(plaintext, shift):\n    ciphertext = \"\"\n\n    for char in plaintext:\n        if char.isalpha():\n            # Determine whether the character is uppercase or lowercase\n            is_upper = char.isupper()\n\n            # Convert the character to uppercase for easier manipulation\n            char = char.upper()\n\n            # Calculate the new character position after shifting\n            char_code = ord(char) - ord('A')\n            new_char_code = (char_code - shift) % 26\n\n            # Convert the new character code back to a character\n            new_char = chr(new_char_code + ord('A'))\n\n            # If the original character was lowercase, convert it back\n            if not is_upper:\n                new_char = new_char.lower()\n\n            # Append the new character to the ciphertext\n            ciphertext += new_char\n        else:\n            # If the character is not a letter, leave it unchanged\n            ciphertext += char\n\n    return ciphertext\n\n# Example usage:\nplaintext1 = \"cvpbPGS{arkg_gvzr_V'yy_gel_2_ebhaqf_bs_ebg13_nSkgmDJE}\"\nshift1 = 13\nciphertext1 = shift_cipher_encrypt(plaintext1, shift1)\nprint(f\"Plaintext (Mod26): \\\"{plaintext1}\\\"\")\nprint(f\"Shift: {shift1}\")\nprint(f\"Ciphertext: \\\"{ciphertext1}\\\"\")\n\n# Example usage:\nplaintext2 = \"cvpbPGS{abg_gbb_onq_bs_n_ceboyrz}\"\nshift2 = 13\nciphertext2 = shift_cipher_encrypt(plaintext2, shift2)\nprint(f\"Plaintext (13): \\\"{plaintext2}\\\"\")\nprint(f\"Shift: {shift2}\")\nprint(f\"Ciphertext: \\\"{ciphertext2}\\\"\")\n\nplaintext3 = \"ynkooejcpdanqxeykjrbdofgkq\"\nfor i in range (0,40,1):\n\tshift3 = i\n\tciphertext3 = shift_cipher_encrypt(plaintext3, shift3)\n\tprint(f\"\\nPlaintext: \\\"{plaintext3}\\\"\")\n\tprint(f\"Shift: {shift3}\")\n\tprint(f\"Ciphertext: \\\"{ciphertext3}\\\"\")",
      "metadata": {
        "trusted": true
      },
      "execution_count": 6,
      "outputs": [
        {
          "name": "stdout",
          "text": "Plaintext (Mod26): \"cvpbPGS{arkg_gvzr_V'yy_gel_2_ebhaqf_bs_ebg13_nSkgmDJE}\"\nShift: 13\nCiphertext: \"picoCTF{next_time_I'll_try_2_rounds_of_rot13_aFxtzQWR}\"\nPlaintext (13): \"cvpbPGS{abg_gbb_onq_bs_n_ceboyrz}\"\nShift: 13\nCiphertext: \"picoCTF{not_too_bad_of_a_problem}\"\n\nPlaintext: \"ynkooejcpdanqxeykjrbdofgkq\"\nShift: 0\nCiphertext: \"ynkooejcpdanqxeykjrbdofgkq\"\n\nPlaintext: \"ynkooejcpdanqxeykjrbdofgkq\"\nShift: 1\nCiphertext: \"xmjnndiboczmpwdxjiqacnefjp\"\n\nPlaintext: \"ynkooejcpdanqxeykjrbdofgkq\"\nShift: 2\nCiphertext: \"wlimmchanbylovcwihpzbmdeio\"\n\nPlaintext: \"ynkooejcpdanqxeykjrbdofgkq\"\nShift: 3\nCiphertext: \"vkhllbgzmaxknubvhgoyalcdhn\"\n\nPlaintext: \"ynkooejcpdanqxeykjrbdofgkq\"\nShift: 4\nCiphertext: \"ujgkkafylzwjmtaugfnxzkbcgm\"\n\nPlaintext: \"ynkooejcpdanqxeykjrbdofgkq\"\nShift: 5\nCiphertext: \"tifjjzexkyvilsztfemwyjabfl\"\n\nPlaintext: \"ynkooejcpdanqxeykjrbdofgkq\"\nShift: 6\nCiphertext: \"sheiiydwjxuhkrysedlvxizaek\"\n\nPlaintext: \"ynkooejcpdanqxeykjrbdofgkq\"\nShift: 7\nCiphertext: \"rgdhhxcviwtgjqxrdckuwhyzdj\"\n\nPlaintext: \"ynkooejcpdanqxeykjrbdofgkq\"\nShift: 8\nCiphertext: \"qfcggwbuhvsfipwqcbjtvgxyci\"\n\nPlaintext: \"ynkooejcpdanqxeykjrbdofgkq\"\nShift: 9\nCiphertext: \"pebffvatgurehovpbaisufwxbh\"\n\nPlaintext: \"ynkooejcpdanqxeykjrbdofgkq\"\nShift: 10\nCiphertext: \"odaeeuzsftqdgnuoazhrtevwag\"\n\nPlaintext: \"ynkooejcpdanqxeykjrbdofgkq\"\nShift: 11\nCiphertext: \"nczddtyrespcfmtnzygqsduvzf\"\n\nPlaintext: \"ynkooejcpdanqxeykjrbdofgkq\"\nShift: 12\nCiphertext: \"mbyccsxqdrobelsmyxfprctuye\"\n\nPlaintext: \"ynkooejcpdanqxeykjrbdofgkq\"\nShift: 13\nCiphertext: \"laxbbrwpcqnadkrlxweoqbstxd\"\n\nPlaintext: \"ynkooejcpdanqxeykjrbdofgkq\"\nShift: 14\nCiphertext: \"kzwaaqvobpmzcjqkwvdnparswc\"\n\nPlaintext: \"ynkooejcpdanqxeykjrbdofgkq\"\nShift: 15\nCiphertext: \"jyvzzpunaolybipjvucmozqrvb\"\n\nPlaintext: \"ynkooejcpdanqxeykjrbdofgkq\"\nShift: 16\nCiphertext: \"ixuyyotmznkxahoiutblnypqua\"\n\nPlaintext: \"ynkooejcpdanqxeykjrbdofgkq\"\nShift: 17\nCiphertext: \"hwtxxnslymjwzgnhtsakmxoptz\"\n\nPlaintext: \"ynkooejcpdanqxeykjrbdofgkq\"\nShift: 18\nCiphertext: \"gvswwmrkxlivyfmgsrzjlwnosy\"\n\nPlaintext: \"ynkooejcpdanqxeykjrbdofgkq\"\nShift: 19\nCiphertext: \"furvvlqjwkhuxelfrqyikvmnrx\"\n\nPlaintext: \"ynkooejcpdanqxeykjrbdofgkq\"\nShift: 20\nCiphertext: \"etquukpivjgtwdkeqpxhjulmqw\"\n\nPlaintext: \"ynkooejcpdanqxeykjrbdofgkq\"\nShift: 21\nCiphertext: \"dspttjohuifsvcjdpowgitklpv\"\n\nPlaintext: \"ynkooejcpdanqxeykjrbdofgkq\"\nShift: 22\nCiphertext: \"crossingtherubiconvfhsjkou\"\n\nPlaintext: \"ynkooejcpdanqxeykjrbdofgkq\"\nShift: 23\nCiphertext: \"bqnrrhmfsgdqtahbnmuegrijnt\"\n\nPlaintext: \"ynkooejcpdanqxeykjrbdofgkq\"\nShift: 24\nCiphertext: \"apmqqglerfcpszgamltdfqhims\"\n\nPlaintext: \"ynkooejcpdanqxeykjrbdofgkq\"\nShift: 25\nCiphertext: \"zolppfkdqeboryfzlkscepghlr\"\n\nPlaintext: \"ynkooejcpdanqxeykjrbdofgkq\"\nShift: 26\nCiphertext: \"ynkooejcpdanqxeykjrbdofgkq\"\n\nPlaintext: \"ynkooejcpdanqxeykjrbdofgkq\"\nShift: 27\nCiphertext: \"xmjnndiboczmpwdxjiqacnefjp\"\n\nPlaintext: \"ynkooejcpdanqxeykjrbdofgkq\"\nShift: 28\nCiphertext: \"wlimmchanbylovcwihpzbmdeio\"\n\nPlaintext: \"ynkooejcpdanqxeykjrbdofgkq\"\nShift: 29\nCiphertext: \"vkhllbgzmaxknubvhgoyalcdhn\"\n\nPlaintext: \"ynkooejcpdanqxeykjrbdofgkq\"\nShift: 30\nCiphertext: \"ujgkkafylzwjmtaugfnxzkbcgm\"\n\nPlaintext: \"ynkooejcpdanqxeykjrbdofgkq\"\nShift: 31\nCiphertext: \"tifjjzexkyvilsztfemwyjabfl\"\n\nPlaintext: \"ynkooejcpdanqxeykjrbdofgkq\"\nShift: 32\nCiphertext: \"sheiiydwjxuhkrysedlvxizaek\"\n\nPlaintext: \"ynkooejcpdanqxeykjrbdofgkq\"\nShift: 33\nCiphertext: \"rgdhhxcviwtgjqxrdckuwhyzdj\"\n\nPlaintext: \"ynkooejcpdanqxeykjrbdofgkq\"\nShift: 34\nCiphertext: \"qfcggwbuhvsfipwqcbjtvgxyci\"\n\nPlaintext: \"ynkooejcpdanqxeykjrbdofgkq\"\nShift: 35\nCiphertext: \"pebffvatgurehovpbaisufwxbh\"\n\nPlaintext: \"ynkooejcpdanqxeykjrbdofgkq\"\nShift: 36\nCiphertext: \"odaeeuzsftqdgnuoazhrtevwag\"\n\nPlaintext: \"ynkooejcpdanqxeykjrbdofgkq\"\nShift: 37\nCiphertext: \"nczddtyrespcfmtnzygqsduvzf\"\n\nPlaintext: \"ynkooejcpdanqxeykjrbdofgkq\"\nShift: 38\nCiphertext: \"mbyccsxqdrobelsmyxfprctuye\"\n\nPlaintext: \"ynkooejcpdanqxeykjrbdofgkq\"\nShift: 39\nCiphertext: \"laxbbrwpcqnadkrlxweoqbstxd\"\n",
          "output_type": "stream"
        }
      ],
      "id": "fe55883a-6887-43dd-9498-5333a51799e2"
    },
    {
      "cell_type": "markdown",
      "source": "## Easy peasy\n\nThe implementation of a code to define a group of characters in hexadecimal, using a key and a specific length, could be the hint to get a result that could be amazing. First of all, if a key had a lenght of 50000, applying an encryption function that recovers the position of the key after 32 characters used let it return to the first part. \n\nIn one part, aplying a print(A*(50000-32)) to return to the begining was clear to get a clue in hexadecimal format. Then, with the XOR implementation in the encryption function could be done with the flag gotten when you run [nc mercury.picoctf.net 58913], and the result after applying \"print(A*(50000-32)); print(A*(32)) |\" with the previous component. Then a result of a new XOR with a 32 characters string could result in the answer. \n\nThe result of nc art first, or at least just using that, let me get the value of 'com' in the code. Then, applied the print component and then the nc part, I could get the 'text' value. Considering that putting \"print(A*(50000-32)); print(3232363033613363363e363a313e343434673662323032303166366337373231346134633366373d323731653663323632333466333b323c3730316136603234) |\" could give me as a result the 'com' value again, which could be a point to determine the flag. ",
      "metadata": {
        "tags": []
      },
      "id": "b9670d85-ef29-4dfd-b4b5-e76d279c1f1a"
    },
    {
      "cell_type": "code",
      "source": "com = \"51124f4d194969633e4b52026f4c07513a6f4d05516e1e50536c4954066a1c57\"\n\nflag = \"51124f4d194969633e4b52026f4c07513a6f4d05516e1e50536c4954066a1c57\"\ntext = \"23666b6f3a3c1a111d3971771d397122181d3927731d3925231d3924241d3924\"\ndec = b'A' * 32\n\n# Aquí se realiza una operación XOR byte a byte entre \"text\" y \"dec\" y se almacena en \"key\".\nkey = list(map(lambda p, k: \"{:02x}\".format(ord(p) ^ k), text, dec))\nkey1 = \"\".join(key)\nprint(f\"keyValue:{key1}\")  # Imprimirá la lista de resultados de la operación XOR.\n\n# Luego, se realiza una operación XOR similar entre \"flag\" y la concatenación de \"key\".\n# Nota: \"\".join(key) convierte la lista de bytes \"key\" en una cadena.\nresult = list(map(lambda p, k: \"{:02x}\".format(ord(p) ^ int(k, 16)), flag, key1))\nresult1 = \"\".join(result)\nprint(f\"mainResultValue:{result1}\")  # Imprimirá una lista de resultados de la operación XOR con \"flag\" y \"key\".",
      "metadata": {
        "trusted": true
      },
      "execution_count": 32,
      "outputs": [
        {
          "name": "stdout",
          "text": "keyValue:7372777777237727722072227020707070257278767076767025727876707373\nmainResultValue:3232363033613363363e363a313e343434673662323032303166366337373231346134633366373d323731653663323632333466333b323c3730316136603234\n",
          "output_type": "stream"
        }
      ],
      "id": "a6980ab2-980e-458d-8033-3d56b745d7f2"
    },
    {
      "cell_type": "markdown",
      "source": "## The Numbers\n\nWhen we try to apply the Caesar cipher, then we have to convert a group of characters into numbers. The point is that, not just in Caesar cipher because it could occur in different types of ciphers, the process to decrypt implies the reverse movement. \n\nThen if we have a list of numbers like: **16 9 3 15 3 20 6 { 20 8 5 14 21 13 2 5 18 19 13 1 19 15 14 }**, then we can consider just to transform them again to characters, as there should not be a key for it. Then we can define a funtion for that.",
      "metadata": {
        "tags": []
      },
      "id": "9b0b3fbd-a09c-4477-aa6b-206118872c4d"
    },
    {
      "cell_type": "code",
      "source": "def caesar_number(numbers):\n    ciphertext = \"\"\n\n    for char in numbers:\n        if type(char) != str:\n            # Calculate the new character position after shifting\n            new_char_code = (char - 1) % 26\n\n            # Convert the new character code back to a character\n            new_char = chr(new_char_code + ord('A')).upper()\n\n            # Append the new character to the ciphertext\n            ciphertext += new_char\n        else:\n            # If the character is not a letter, leave it unchanged\n            ciphertext += char\n\n    return ciphertext\n\nplaintext2 = [16,9,3,15,3,20,6,'{',20,8,5,14,21,13,2,5,18,19,13,1,19,15,14,'}']\nciphertext3 = caesar_number(plaintext2)\nprint(f\"\\nPlaintext new: \\\"{ciphertext3}\\\"\")",
      "metadata": {
        "trusted": true
      },
      "execution_count": 33,
      "outputs": [
        {
          "name": "stdout",
          "text": "\nPlaintext new: \"PICOCTF{THENUMBERSMASON}\"\n",
          "output_type": "stream"
        }
      ],
      "id": "0c0e698e-486a-4f21-9dff-6e4b33650492"
    },
    {
      "cell_type": "markdown",
      "source": "## New Caesar\n\n**New Caesar** implies a script, where the 16 first characters are taken. Then taking the plain text to hexadecimal with those 16 first characters of the alphabet taken, here the point is convert it to binary and then select two groups of 4 bits to select two characters of the array of characters taken, defining an output with that. \n\nThe cipher that went then applies a key and a a charater of the text modified. Applied an arithmetic operation to get a new character on each postion of the encrypted text, we can define a dercypt method in reverse order.\n\nThen the decryption, could be done in a new form, converting the hexadecimal code to a simple text. For that, consider to make a bucle on the alphabet characters, the chosen ones. Applying a shift over that text using each letter in the bucle as key, getting a flag. That flag will be decodified by a function that transforms in hexadecimal to simple text, consder that function as b16_decode and the first one as shift.\n\nAs we could consider, the problem could be that there is not a clear key for this case, so the loop is applied for each letter in alphabet selected to look at the best or clearest result obtained.",
      "metadata": {
        "tags": []
      },
      "id": "25aebf9e-981f-4bae-8811-b2a379259243"
    },
    {
      "cell_type": "code",
      "source": "import string\n\nLOWERCASE_OFFSET = ord(\"a\")\nALPHABET = string.ascii_lowercase[:16]\n\ndef b16_decode(enc):\n\tdecoded = \"\"\n\tbinary = \"\"\n\n\tfor c in enc:\n\t\tif c in ALPHABET:\n\t\t\t# Convert the character back to a 4-bit binary string\n\t\t\tbinary += \"{:04b}\".format(ALPHABET.index(c))\n\n\t\t# Check if we have a complete 8-bit binary representation\n\t\tif len(binary) == 8:\n\t\t\t# Convert the binary to a character and append to the decoded result\n\t\t\tdecoded += chr(int(binary, 2))\n\t\t\tbinary = \"\"  # Reset the binary string\n\n\treturn decoded\n\ndef shift(c, k):\n\tt1 = ord(c) - LOWERCASE_OFFSET\n\tt2 = ord(k) - LOWERCASE_OFFSET\n\treturn ALPHABET[(t1 + t2) % len(ALPHABET)]\n\nenc = \"lkmjkemjmkiekeijiiigljlhilihliikiliginliljimiklligljiflhiniiiniiihlhilimlhijil\"\n\nfor key in ALPHABET:\n\tflag = \"\"\n\tfor c in enc:\n\t\tflag += shift(c, key)\n\n\tdecoded_flag = b16_decode(flag)\n\tprint(f\"Key '{key}': {decoded_flag}\")",
      "metadata": {
        "trusted": true
      },
      "execution_count": 34,
      "outputs": [
        {
          "name": "stdout",
          "text": "Key 'a': ºÉ¤ÉÊ¤¹·¸¸¹»¹···\nKey 'b': ËÚµÚÛµÊÈÉÉÊÌÊÈÈÈ\nKey 'c': ÜëÆëì¦Æ«ª¨ÛÙ­©Ú¬­¨¯ÚÛ®¬Ý¨Û§Ù¯ª¯ª©Ù­®Ù«­\nKey 'd': íü×üý·×¼»¹ìê¾ºë½¾¹°ëì¿½î¹ì¸ê°»°»ºê¾¿ê¼¾\n\u000eÈèÍÌÊýûÏËüÎÏÊÁüýÀÎÿÊýÉûÁÌÁÌËûÏÀûÍÏ\n\u000eÑß\u0000Û\u000eÚ\fÒÝÒÝÜ\fÐÑ\fÞÐ\u000e\fÐÜ\nKey 'g': \u0010/\n/ ê\nïîì\u001f\u001dáí\u001eàáìã\u001e\u001fâà\u0011ì\u001fë\u001dãîãîí\u001dáâ\u001dïá\nKey 'h': !0\u001b01û\u001bðÿý .òþ/ñòýô/ óñ\"ý ü.ôÿôÿþ.òó.ðò\n?\u0005\u0000\u0005\u0000\u000f?\u0003\u0004?\u0001\u0003AB\f,\u0001\u0000\u000e1?\u0003\u000f0\u0002\u0003\u000e\u000501\u0004\u00023\u000e1\nKey 'j': CR=RS\u001d=\u0012\u0011\u001fB@\u0014\u0010A\u0013\u0014\u001f\u0016AB\u0015\u0013D\u001fB\u001e@\u0016\u0011\u0016\u0011\u0010@\u0014\u0015@\u0012\u0014\nKey 'k': TcNcd.N#\" SQ%!R$% 'RS&$U S/Q'\"'\"!Q%&Q#%\nKey 'l': et_tu?_431db62c5618cd75f1d0b83832b67b46\nKey 'm': v`@`EDBusGCtFGBItuHFwBuAsIDIDCsGHsEG\nKey 'n': qQqVUSXTWXSZYWSRZUZUTXYVX\nKey 'o': §§¨bgfdiehidkjhdckfkfeijgi\nKey 'p': ©¸¸¹sxwu¨¦zv§yzu|§¨{yªu¨t¦|w|wv¦z{¦xz\n",
          "output_type": "stream"
        }
      ],
      "id": "d2e261f4-c5b2-4693-b114-87037d6cfd21"
    },
    {
      "cell_type": "markdown",
      "source": "## Easy1\n\n**Easy1** implies a table with characters of the alphabet, those are related between them. COnsider the case of an encrypted text and a key, which is a word with the same lenght as the encrypted text. Next to that,we can consider that the rows are for the key letters and the columns for the decrypted letters. When the row, for the letter in the position analyzed of the key, matches in that row with the letter in that position in the encrypted text, then the column defines the letter of the decrypted text. COnsider the case of *UFJKXQZQUNB* as encrypted text, then the key *SOLVECRYPTO*. If we consider then the table below, we can get the result: *CRYPTOISFUN*.\n\nConsider what's next, for each position:\nS = U : C\nO = F : R\nL = J : Y\nV = K : P\nE = X : T\nC = Q : O\nR = Z : I\nY = Q : S\nP = U : F\nT = N : U\nO = B : N",
      "metadata": {
        "tags": []
      },
      "id": "787dd1e4-ebe0-451b-872e-cd1cb04d5a7b"
    },
    {
      "cell_type": "code",
      "source": "\"\"\"\n    A B C D E F G H I J K L M N O P Q R S T U V W X Y Z \n   +----------------------------------------------------\nA | A B C D E F G H I J K L M N O P Q R S T U V W X Y Z\nB | B C D E F G H I J K L M N O P Q R S T U V W X Y Z A\nC | C D E F G H I J K L M N O P Q R S T U V W X Y Z A B\nD | D E F G H I J K L M N O P Q R S T U V W X Y Z A B C\nE | E F G H I J K L M N O P Q R S T U V W X Y Z A B C D\nF | F G H I J K L M N O P Q R S T U V W X Y Z A B C D E\nG | G H I J K L M N O P Q R S T U V W X Y Z A B C D E F\nH | H I J K L M N O P Q R S T U V W X Y Z A B C D E F G\nI | I J K L M N O P Q R S T U V W X Y Z A B C D E F G H\nJ | J K L M N O P Q R S T U V W X Y Z A B C D E F G H I\nK | K L M N O P Q R S T U V W X Y Z A B C D E F G H I J\nL | L M N O P Q R S T U V W X Y Z A B C D E F G H I J K\nM | M N O P Q R S T U V W X Y Z A B C D E F G H I J K L\nN | N O P Q R S T U V W X Y Z A B C D E F G H I J K L M\nO | O P Q R S T U V W X Y Z A B C D E F G H I J K L M N\nP | P Q R S T U V W X Y Z A B C D E F G H I J K L M N O\nQ | Q R S T U V W X Y Z A B C D E F G H I J K L M N O P\nR | R S T U V W X Y Z A B C D E F G H I J K L M N O P Q\nS | S T U V W X Y Z A B C D E F G H I J K L M N O P Q R\nT | T U V W X Y Z A B C D E F G H I J K L M N O P Q R S\nU | U V W X Y Z A B C D E F G H I J K L M N O P Q R S T\nV | V W X Y Z A B C D E F G H I J K L M N O P Q R S T U\nW | W X Y Z A B C D E F G H I J K L M N O P Q R S T U V\nX | X Y Z A B C D E F G H I J K L M N O P Q R S T U V W\nY | Y Z A B C D E F G H I J K L M N O P Q R S T U V W X\nZ | Z A B C D E F G H I J K L M N O P Q R S T U V W X Y\n\"\"\"",
      "metadata": {},
      "execution_count": null,
      "outputs": [],
      "id": "8310e109-f7a7-4b3f-a201-e1244070dfaf"
    },
    {
      "cell_type": "markdown",
      "source": "## Spelling-quiz\n\n**spelling-quiz** coudl be analyzed like a substitution cipher. In this case, we can analyze it by the most frequent value. However, if it is possible, we can consider another way to solve this. In my case, I had to consider the use of https://www.boxentriq.com/code-breaking/cipher-identifier, then I could get that its using monoalphabetic cipher. If that is true, we can get the next result of the encrypted text *brcfxba_vfr_mid_hosbrm_iprc_exa_hoav_vwcrm*, being it *perhaps the dog jumped over was just tired*.",
      "metadata": {
        "tags": []
      },
      "id": "11f46055-880b-4832-8b32-c30b73117c8e"
    }
  ]
}